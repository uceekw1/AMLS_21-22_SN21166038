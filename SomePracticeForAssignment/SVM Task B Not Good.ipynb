{
 "cells": [
  {
   "cell_type": "markdown",
   "id": "dc30b131",
   "metadata": {},
   "source": [
    "# SVM Model for Tumour Classification\n",
    "## B. Multiclass task\n",
    "### Build a classifier to identify the type of tumor in each MRI image (meningioma tu-\n",
    "### mor, glioma tumor, pituitary tumor or no tumor)."
   ]
  },
  {
   "cell_type": "markdown",
   "id": "037b07b2",
   "metadata": {},
   "source": [
    "Import necessary libraries, matplotlib, pandas, numpy, sklearn, PIL, scipy and os module"
   ]
  },
  {
   "cell_type": "code",
   "execution_count": 67,
   "id": "cc4cded5",
   "metadata": {},
   "outputs": [],
   "source": [
    "import numpy as np\n",
    "import matplotlib.pyplot as plt\n",
    "import matplotlib.image as mpimg\n",
    "from sklearn import svm\n",
    "from sklearn.svm import SVC\n",
    "from sklearn.model_selection import train_test_split\n",
    "from sklearn.metrics import classification_report,accuracy_score\n",
    "from sklearn.model_selection import RandomizedSearchCV\n",
    "from sklearn.decomposition import PCA\n",
    "from scipy.stats import uniform\n",
    "import pandas as pd\n",
    "from PIL import Image                 #Import PIL for image size reduction\n",
    "import os                             #Import os module for path operation\n",
    "from os import path"
   ]
  },
  {
   "cell_type": "markdown",
   "id": "bddda714",
   "metadata": {},
   "source": [
    "Read label.csv; Define original/resized image data folder path"
   ]
  },
  {
   "cell_type": "code",
   "execution_count": 68,
   "id": "e5ebfd05",
   "metadata": {},
   "outputs": [],
   "source": [
    "csv_array = pd.read_csv('./dataset/label.csv')\n",
    "\n",
    "dir_image = \"./dataset/image/\"\n",
    "dir_small_img = \"./dataset/small_img/\"\n",
    "dir_img256 = \"./dataset/image256/\"\n",
    "\n",
    "if path.exists(dir_small_img) == 'false':\n",
    "    os.makedirs(dir_small_img)\n",
    "if path.exists(dir_img256) == 'false':\n",
    "    os.makedirs(dir_img256)"
   ]
  },
  {
   "cell_type": "markdown",
   "id": "6e5e0001",
   "metadata": {},
   "source": [
    "Resize 3000 images from 512512 to 256256 resolution; Read resized images into \"imgs\" array; each image is flattened into one row and also reduced from RGB to grey scale."
   ]
  },
  {
   "cell_type": "code",
   "execution_count": 69,
   "id": "24fbb357",
   "metadata": {
    "scrolled": true
   },
   "outputs": [
    {
     "name": "stdout",
     "output_type": "stream",
     "text": [
      "(3000, 65536)\n"
     ]
    }
   ],
   "source": [
    "#rows, cols = (3000, 16384)             \n",
    "rows, cols = (3000, 65536)            #rows is data set size; cols is width*length (after image size reduction. Here is 256*256)\n",
    "\n",
    "imgs = np.zeros((rows,cols))\n",
    "\n",
    "basewidth = 256                       #Target image width is 256; original width is 512\n",
    "img = Image.open(\"./dataset/image/IMAGE_0000.jpg\")\n",
    "wpercent = float(basewidth) / float(img.size[0])       #use \"256/512\" as resize ratio (wpercent)\n",
    "hsize = int((float(img.size[1]) * float(wpercent)))    #calculated target image height using resize ratio (wpercent)\n",
    "\n",
    "for i in range(rows):                 #Reduce every image's size and save them in 'dir_img256' folder\n",
    "    img = Image.open(dir_image + csv_array.file_name[i])\n",
    "    img = img.resize((basewidth, hsize), Image.ANTIALIAS)\n",
    "    img.save(dir_img256 + csv_array.file_name[i])\n",
    "\n",
    "for i in range(rows):                 #Read every resized image and reduce it from RGB to grayscale format. Transform it to 1-d array. Store all images in 2-d array imgs. \n",
    "    img = mpimg.imread(dir_img256 + csv_array.file_name[i])[...,0]\n",
    "    imgs[i] = img.flatten()\n",
    "print(imgs.shape)"
   ]
  },
  {
   "cell_type": "markdown",
   "id": "b46421ef",
   "metadata": {},
   "source": [
    "Extract maximum 3000 components; Check explained variance in order to choose a proper number of principle components"
   ]
  },
  {
   "cell_type": "code",
   "execution_count": 70,
   "id": "a4a1eb81",
   "metadata": {},
   "outputs": [
    {
     "name": "stdout",
     "output_type": "stream",
     "text": [
      "Variance explained by all 3000 principal components = 100.00000000000007\n"
     ]
    }
   ],
   "source": [
    "pca_3000 = PCA(n_components = 3000, random_state = 2020) \n",
    "pca_3000.fit(imgs)\n",
    "imgs_pca_3000 = pca_3000.transform(imgs)\n",
    "\n",
    "print(\"Variance explained by all 3000 principal components =\", sum(pca_3000.explained_variance_ratio_ * 100))"
   ]
  },
  {
   "cell_type": "markdown",
   "id": "d6143c0e",
   "metadata": {},
   "source": [
    "Plot 'explained_variance_ratio' against 'number of priciple components'"
   ]
  },
  {
   "cell_type": "code",
   "execution_count": 71,
   "id": "3b116e9e",
   "metadata": {
    "scrolled": false
   },
   "outputs": [
    {
     "data": {
      "image/png": "[encoded data removed]",
      "text/plain": [
       "<Figure size 432x288 with 1 Axes>"
      ]
     },
     "metadata": {
      "needs_background": "light"
     },
     "output_type": "display_data"
    }
   ],
   "source": [
    "plt.plot(np.cumsum(pca_3000.explained_variance_ratio_ * 100))\n",
    "plt.xlabel('number of priciple components')\n",
    "plt.ylabel('Explained variance')\n",
    "plt.savefig('BrainTumorPCA3000B.png',dpi = 100)"
   ]
  },
  {
   "cell_type": "markdown",
   "id": "afe1e76e",
   "metadata": {},
   "source": [
    "Find that 832 principle components reserved more than 95% of data variance"
   ]
  },
  {
   "cell_type": "code",
   "execution_count": 72,
   "id": "54e9db87",
   "metadata": {},
   "outputs": [
    {
     "name": "stdout",
     "output_type": "stream",
     "text": [
      "matched_index: 832\n",
      "94.99376165347724\n",
      "95.00201467265005\n"
     ]
    }
   ],
   "source": [
    "a = np.cumsum(pca_3000.explained_variance_ratio_ * 100)\n",
    "\n",
    "threshold = 95\n",
    "matched_index = np.where(a > threshold)[0][0]\n",
    "print(f'matched_index: {matched_index}')\n",
    "print(a[831])\n",
    "print(a[832])"
   ]
  },
  {
   "cell_type": "markdown",
   "id": "30619020",
   "metadata": {},
   "source": [
    "Extract 832 principle components which reserved more than 95% of data variance"
   ]
  },
  {
   "cell_type": "code",
   "execution_count": 73,
   "id": "d8e2483f",
   "metadata": {},
   "outputs": [
    {
     "name": "stdout",
     "output_type": "stream",
     "text": [
      "(3000, 832)\n"
     ]
    }
   ],
   "source": [
    "pca_832 = PCA(n_components = 832, random_state = 2020)\n",
    "pca_832.fit(imgs)\n",
    "imgs_pca_832 = pca_832.transform(imgs)\n",
    "print(imgs_pca_832.shape)"
   ]
  },
  {
   "cell_type": "markdown",
   "id": "38e3f975",
   "metadata": {},
   "source": [
    "Split train/test data set by 9:1"
   ]
  },
  {
   "cell_type": "code",
   "execution_count": 74,
   "id": "fada3ca3",
   "metadata": {},
   "outputs": [
    {
     "name": "stdout",
     "output_type": "stream",
     "text": [
      "(2700, 832)\n"
     ]
    }
   ],
   "source": [
    "x_train, x_test, y_train, y_test = train_test_split(imgs_pca_832, csv_array.label[0:rows], test_size=0.10, random_state=0)\n",
    "print(x_train.shape)"
   ]
  },
  {
   "cell_type": "markdown",
   "id": "6ab5b3af",
   "metadata": {},
   "source": [
    "Tune hyperparameter C for SVM model to get better classification accuracy"
   ]
  },
  {
   "cell_type": "code",
   "execution_count": 75,
   "id": "0ca779b5",
   "metadata": {},
   "outputs": [
    {
     "data": {
      "text/plain": [
       "SVC(C=38.07947176588889)"
      ]
     },
     "execution_count": 75,
     "metadata": {},
     "output_type": "execute_result"
    }
   ],
   "source": [
    "param_distributions = {\"C\": uniform(1, 99)} #Random tune C between 1 and 100\n",
    "\n",
    "model = SVC(kernel='rbf', gamma='scale')\n",
    "clf = RandomizedSearchCV(model, param_distributions, n_iter=25, random_state=42)\n",
    "search = clf.fit(x_train[0:2700], y_train[0:2700])\n",
    "search.best_estimator_"
   ]
  },
  {
   "cell_type": "markdown",
   "id": "77fa05fe",
   "metadata": {},
   "source": [
    "Train SVM model (best_estimator_) and predict based on test data set. Print accuracy score."
   ]
  },
  {
   "cell_type": "code",
   "execution_count": 76,
   "id": "28121a5d",
   "metadata": {},
   "outputs": [
    {
     "data": {
      "text/plain": [
       "0.9066666666666666"
      ]
     },
     "execution_count": 76,
     "metadata": {},
     "output_type": "execute_result"
    }
   ],
   "source": [
    "search.best_estimator_.fit(x_train, y_train)\n",
    "y_pred = search.best_estimator_.predict(x_test)\n",
    "accuracy_score(y_test, y_pred)"
   ]
  },
  {
   "cell_type": "code",
   "execution_count": null,
   "id": "9dd9a2ab",
   "metadata": {},
   "outputs": [],
   "source": []
  }
 ],
 "metadata": {
  "kernelspec": {
   "display_name": "Python 3 (ipykernel)",
   "language": "python",
   "name": "python3"
  },
  "language_info": {
   "codemirror_mode": {
    "name": "ipython",
    "version": 3
   },
   "file_extension": ".py",
   "mimetype": "text/x-python",
   "name": "python",
   "nbconvert_exporter": "python",
   "pygments_lexer": "ipython3",
   "version": "3.7.11"
  }
 },
 "nbformat": 4,
 "nbformat_minor": 5
}

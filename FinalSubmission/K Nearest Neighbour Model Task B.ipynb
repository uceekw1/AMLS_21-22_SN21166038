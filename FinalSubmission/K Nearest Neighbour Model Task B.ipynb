{
 "cells": [
  {
   "cell_type": "markdown",
   "id": "efc7ab9e",
   "metadata": {},
   "source": [
    "# K Nearest Neighbour Model for Tumour Classification\n",
    "## B. Multiclass task\n",
    "### Build a classifier to identify the type of tumor in each MRI image (meningioma tu-\n",
    "### mor, glioma tumor, pituitary tumor or no tumor)."
   ]
  },
  {
   "cell_type": "markdown",
   "id": "884b7e37",
   "metadata": {},
   "source": [
    "Import necessary libraries, matplotlib, pandas, numpy and sklearn"
   ]
  },
  {
   "cell_type": "code",
   "execution_count": 1,
   "id": "996e9b57",
   "metadata": {},
   "outputs": [],
   "source": [
    "import numpy as np\n",
    "import pandas as pd\n",
    "from sklearn.model_selection import train_test_split\n",
    "from sklearn.neighbors import KNeighborsClassifier\n",
    "from sklearn import metrics\n",
    "import matplotlib.pyplot as plt\n",
    "import matplotlib.image as mpimg\n",
    "\n",
    "from PIL import Image                 #Use PIL for image size reduction\n",
    "import os                             #Import os module\n",
    "from os import path"
   ]
  },
  {
   "cell_type": "markdown",
   "id": "3af62c0f",
   "metadata": {},
   "source": [
    "Read label.csv and define image data folder path"
   ]
  },
  {
   "cell_type": "code",
   "execution_count": 2,
   "id": "a2915885",
   "metadata": {},
   "outputs": [],
   "source": [
    "csv_array = pd.read_csv('./dataset/label.csv')\n",
    "\n",
    "dir_image = \"./dataset/image/\"\n",
    "dir_img256 = \"./dataset/image256/\"\n",
    "\n",
    "if path.exists(dir_img256) == 'false':\n",
    "    os.makedirs(dir_img256)"
   ]
  },
  {
   "cell_type": "markdown",
   "id": "a3b63bac",
   "metadata": {},
   "source": [
    "Read 3000 images data into \"imgs\" array; each image is flattened into one row;"
   ]
  },
  {
   "cell_type": "code",
   "execution_count": 3,
   "id": "69526a47",
   "metadata": {},
   "outputs": [
    {
     "name": "stdout",
     "output_type": "stream",
     "text": [
      "(3000, 65536)\n"
     ]
    }
   ],
   "source": [
    "rows, cols = (3000, 65536)            #rows is data set size; cols is width*length (after image size reduction. Here is 256*256)\n",
    "     \n",
    "imgs = np.zeros((rows,cols))          #Initialize an array for all reduced images\n",
    "\n",
    "basewidth = 256                       #Target image width is 256; original width is 512\n",
    "img = Image.open(\"./dataset/image/IMAGE_0000.jpg\")\n",
    "wpercent = float(basewidth) / float(img.size[0])       #use \"256/512\" as resize ratio (wpercent)\n",
    "hsize = int((float(img.size[1]) * float(wpercent)))    #calculated target image height using resize ratio (wpercent)\n",
    "\n",
    "for i in range(rows):                 #Reduce every image's size and save them in 'dir_img256' folder\n",
    "    img = Image.open(dir_image + csv_array.file_name[i])\n",
    "    img = img.resize((basewidth, hsize), Image.ANTIALIAS)\n",
    "    img.save(dir_img256 + csv_array.file_name[i])\n",
    "\n",
    "for i in range(rows):                 #Read every resized image and reduce it from RGB to grayscale format. Transform it to 1-d array. Store all images in a 2-d array, imgs. \n",
    "    img = mpimg.imread(dir_img256 + csv_array.file_name[i])[...,0]\n",
    "    imgs[i] = img.flatten()\n",
    "print(imgs.shape)"
   ]
  },
  {
   "cell_type": "markdown",
   "id": "85af0de1",
   "metadata": {},
   "source": [
    "Split train/test data set by 9:1"
   ]
  },
  {
   "cell_type": "code",
   "execution_count": 4,
   "id": "3418434a",
   "metadata": {},
   "outputs": [
    {
     "name": "stdout",
     "output_type": "stream",
     "text": [
      "train set: 0.9  | test set: 0.1\n"
     ]
    }
   ],
   "source": [
    "X_train,X_test,y_train,y_test=train_test_split(imgs, csv_array.label[0:rows],test_size=0.10, random_state=0) \n",
    "#test_size= should be between 0.0 and 1.0 and represent the proportion of the dataset to include in the test split\n",
    "#everytime you run it without specifying random_state, you will get a different result, this is expected behavior\n",
    "#print (len(X_test), len(y_test))\n",
    "\n",
    "print('train set: {}  | test set: {}'.format(round(((len(y_train)*1.0)/len(imgs)),3),\n",
    "                                                       round((len(y_test)*1.0)/len(imgs),3)))\n"
   ]
  },
  {
   "cell_type": "markdown",
   "id": "0ca1925c",
   "metadata": {},
   "source": [
    "Train KNNClassifier and predict based on test data set Print accuracy score"
   ]
  },
  {
   "cell_type": "code",
   "execution_count": 5,
   "id": "c6f05f8d",
   "metadata": {},
   "outputs": [
    {
     "name": "stdout",
     "output_type": "stream",
     "text": [
      "Test on K =  1 . Score =  0.8966666666666666\n",
      "Test on K =  2 . Score =  0.8266666666666667\n",
      "Test on K =  3 . Score =  0.8066666666666666\n",
      "Test on K =  4 . Score =  0.7833333333333333\n",
      "Test on K =  5 . Score =  0.7733333333333333\n",
      "Test on K =  6 . Score =  0.73\n",
      "Test on K =  7 . Score =  0.74\n",
      "Test on K =  8 . Score =  0.7333333333333333\n",
      "Test on K =  9 . Score =  0.7233333333333334\n",
      "Test on K =  10 . Score =  0.7133333333333334\n",
      "Test on K =  11 . Score =  0.7033333333333334\n",
      "Test on K =  12 . Score =  0.7\n",
      "Test on K =  13 . Score =  0.6833333333333333\n",
      "Test on K =  14 . Score =  0.69\n",
      "Test on K =  15 . Score =  0.6833333333333333\n",
      "Test on K =  16 . Score =  0.69\n",
      "Test on K =  17 . Score =  0.6866666666666666\n",
      "Test on K =  18 . Score =  0.68\n",
      "Test on K =  19 . Score =  0.6766666666666666\n",
      "Test on K =  20 . Score =  0.6733333333333333\n",
      "Test on K =  21 . Score =  0.67\n",
      "Test on K =  22 . Score =  0.6633333333333333\n",
      "Test on K =  23 . Score =  0.6633333333333333\n",
      "Test on K =  24 . Score =  0.6566666666666666\n",
      "Test on K =  25 . Score =  0.6566666666666666\n",
      "Test on K =  26 . Score =  0.6533333333333333\n",
      "Test on K =  27 . Score =  0.6566666666666666\n",
      "Test on K =  28 . Score =  0.6466666666666666\n",
      "Test on K =  29 . Score =  0.65\n",
      "Test on K =  30 . Score =  0.64\n",
      "Test on K =  31 . Score =  0.63\n",
      "Test on K =  32 . Score =  0.6366666666666667\n",
      "Test on K =  33 . Score =  0.6466666666666666\n",
      "Test on K =  34 . Score =  0.6433333333333333\n",
      "Test on K =  35 . Score =  0.6366666666666667\n",
      "Test on K =  36 . Score =  0.6333333333333333\n",
      "Test on K =  37 . Score =  0.6333333333333333\n",
      "Test on K =  38 . Score =  0.6266666666666667\n",
      "Test on K =  39 . Score =  0.6333333333333333\n",
      "Test on K =  40 . Score =  0.63\n",
      "Test on K =  41 . Score =  0.6333333333333333\n",
      "Test on K =  42 . Score =  0.6266666666666667\n",
      "Test on K =  43 . Score =  0.63\n",
      "Test on K =  44 . Score =  0.6333333333333333\n",
      "Test on K =  45 . Score =  0.63\n",
      "Test on K =  46 . Score =  0.63\n",
      "Test on K =  47 . Score =  0.6266666666666667\n",
      "Test on K =  48 . Score =  0.6233333333333333\n",
      "Test on K =  49 . Score =  0.6233333333333333\n",
      "Test on K =  50 . Score =  0.6266666666666667\n",
      "Test on K =  51 . Score =  0.6233333333333333\n",
      "Test on K =  52 . Score =  0.6233333333333333\n",
      "Test on K =  53 . Score =  0.6233333333333333\n",
      "Test on K =  54 . Score =  0.6333333333333333\n",
      "Test on K =  55 . Score =  0.6233333333333333\n",
      "Test on K =  56 . Score =  0.6266666666666667\n",
      "Test on K =  57 . Score =  0.6266666666666667\n",
      "Test on K =  58 . Score =  0.6233333333333333\n",
      "Test on K =  59 . Score =  0.6166666666666667\n",
      "Test on K =  60 . Score =  0.6133333333333333\n",
      "Test on K =  61 . Score =  0.6066666666666667\n",
      "Test on K =  62 . Score =  0.6033333333333334\n",
      "Test on K =  63 . Score =  0.6033333333333334\n",
      "Test on K =  64 . Score =  0.6033333333333334\n",
      "Test on K =  65 . Score =  0.6066666666666667\n",
      "Test on K =  66 . Score =  0.6033333333333334\n",
      "Test on K =  67 . Score =  0.6\n",
      "Test on K =  68 . Score =  0.5966666666666667\n",
      "Test on K =  69 . Score =  0.5933333333333334\n",
      "Test on K =  70 . Score =  0.59\n",
      "Test on K =  71 . Score =  0.5866666666666667\n",
      "Test on K =  72 . Score =  0.5833333333333334\n",
      "Test on K =  73 . Score =  0.58\n",
      "Test on K =  74 . Score =  0.5833333333333334\n",
      "Test on K =  75 . Score =  0.5833333333333334\n",
      "Test on K =  76 . Score =  0.5833333333333334\n",
      "Test on K =  77 . Score =  0.5833333333333334\n",
      "Test on K =  78 . Score =  0.5833333333333334\n",
      "Test on K =  79 . Score =  0.5833333333333334\n",
      "Test on K =  80 . Score =  0.5866666666666667\n",
      "Test on K =  81 . Score =  0.5866666666666667\n",
      "Test on K =  82 . Score =  0.59\n",
      "Test on K =  83 . Score =  0.59\n",
      "Test on K =  84 . Score =  0.5933333333333334\n",
      "Test on K =  85 . Score =  0.5933333333333334\n",
      "Test on K =  86 . Score =  0.5866666666666667\n",
      "Test on K =  87 . Score =  0.59\n",
      "Test on K =  88 . Score =  0.59\n",
      "Test on K =  89 . Score =  0.59\n",
      "Test on K =  90 . Score =  0.59\n",
      "Test on K =  91 . Score =  0.59\n",
      "Test on K =  92 . Score =  0.5866666666666667\n",
      "Test on K =  93 . Score =  0.5866666666666667\n",
      "Test on K =  94 . Score =  0.5833333333333334\n",
      "Test on K =  95 . Score =  0.5833333333333334\n",
      "Test on K =  96 . Score =  0.58\n",
      "Test on K =  97 . Score =  0.58\n",
      "Test on K =  98 . Score =  0.58\n",
      "Test on K =  99 . Score =  0.5866666666666667\n",
      "Test on K =  100 . Score =  0.5833333333333334\n",
      "Test on K =  101 . Score =  0.5766666666666667\n",
      "Test on K =  102 . Score =  0.5733333333333334\n",
      "Test on K =  103 . Score =  0.58\n",
      "Test on K =  104 . Score =  0.5766666666666667\n",
      "Test on K =  105 . Score =  0.5766666666666667\n",
      "Test on K =  106 . Score =  0.5766666666666667\n",
      "Test on K =  107 . Score =  0.5766666666666667\n",
      "Test on K =  108 . Score =  0.5766666666666667\n",
      "Test on K =  109 . Score =  0.5733333333333334\n",
      "Test on K =  110 . Score =  0.5666666666666667\n",
      "Test on K =  111 . Score =  0.5633333333333334\n",
      "Test on K =  112 . Score =  0.5666666666666667\n",
      "Test on K =  113 . Score =  0.57\n",
      "Test on K =  114 . Score =  0.5666666666666667\n",
      "Test on K =  115 . Score =  0.57\n",
      "Test on K =  116 . Score =  0.57\n",
      "Test on K =  117 . Score =  0.5733333333333334\n",
      "Test on K =  118 . Score =  0.5733333333333334\n",
      "Test on K =  119 . Score =  0.5766666666666667\n",
      "Test on K =  120 . Score =  0.5766666666666667\n",
      "Test on K =  121 . Score =  0.57\n",
      "Test on K =  122 . Score =  0.5766666666666667\n",
      "Test on K =  123 . Score =  0.5733333333333334\n",
      "Test on K =  124 . Score =  0.5733333333333334\n",
      "Test on K =  125 . Score =  0.5733333333333334\n",
      "Test on K =  126 . Score =  0.5733333333333334\n",
      "Test on K =  127 . Score =  0.57\n",
      "Test on K =  128 . Score =  0.57\n",
      "Test on K =  129 . Score =  0.57\n",
      "Test on K =  130 . Score =  0.57\n",
      "Test on K =  131 . Score =  0.57\n",
      "Test on K =  132 . Score =  0.5666666666666667\n",
      "Test on K =  133 . Score =  0.5666666666666667\n",
      "Test on K =  134 . Score =  0.5666666666666667\n",
      "Test on K =  135 . Score =  0.5666666666666667\n",
      "Test on K =  136 . Score =  0.5666666666666667\n",
      "Test on K =  137 . Score =  0.5633333333333334\n",
      "Test on K =  138 . Score =  0.56\n",
      "Test on K =  139 . Score =  0.56\n",
      "Test on K =  140 . Score =  0.56\n",
      "Test on K =  141 . Score =  0.56\n",
      "Test on K =  142 . Score =  0.5566666666666666\n",
      "Test on K =  143 . Score =  0.5566666666666666\n",
      "Test on K =  144 . Score =  0.5533333333333333\n",
      "Test on K =  145 . Score =  0.5566666666666666\n",
      "Test on K =  146 . Score =  0.5533333333333333\n",
      "Test on K =  147 . Score =  0.5566666666666666\n",
      "Test on K =  148 . Score =  0.5566666666666666\n",
      "Test on K =  149 . Score =  0.5566666666666666\n",
      "Test on K =  150 . Score =  0.5566666666666666\n",
      "[0.89666667 0.82666667 0.80666667 0.78333333 0.77333333 0.73\n",
      " 0.74       0.73333333 0.72333333 0.71333333 0.70333333 0.7\n",
      " 0.68333333 0.69       0.68333333 0.69       0.68666667 0.68\n",
      " 0.67666667 0.67333333 0.67       0.66333333 0.66333333 0.65666667\n",
      " 0.65666667 0.65333333 0.65666667 0.64666667 0.65       0.64\n",
      " 0.63       0.63666667 0.64666667 0.64333333 0.63666667 0.63333333\n",
      " 0.63333333 0.62666667 0.63333333 0.63       0.63333333 0.62666667\n",
      " 0.63       0.63333333 0.63       0.63       0.62666667 0.62333333\n",
      " 0.62333333 0.62666667 0.62333333 0.62333333 0.62333333 0.63333333\n",
      " 0.62333333 0.62666667 0.62666667 0.62333333 0.61666667 0.61333333\n",
      " 0.60666667 0.60333333 0.60333333 0.60333333 0.60666667 0.60333333\n",
      " 0.6        0.59666667 0.59333333 0.59       0.58666667 0.58333333\n",
      " 0.58       0.58333333 0.58333333 0.58333333 0.58333333 0.58333333\n",
      " 0.58333333 0.58666667 0.58666667 0.59       0.59       0.59333333\n",
      " 0.59333333 0.58666667 0.59       0.59       0.59       0.59\n",
      " 0.59       0.58666667 0.58666667 0.58333333 0.58333333 0.58\n",
      " 0.58       0.58       0.58666667 0.58333333 0.57666667 0.57333333\n",
      " 0.58       0.57666667 0.57666667 0.57666667 0.57666667 0.57666667\n",
      " 0.57333333 0.56666667 0.56333333 0.56666667 0.57       0.56666667\n",
      " 0.57       0.57       0.57333333 0.57333333 0.57666667 0.57666667\n",
      " 0.57       0.57666667 0.57333333 0.57333333 0.57333333 0.57333333\n",
      " 0.57       0.57       0.57       0.57       0.57       0.56666667\n",
      " 0.56666667 0.56666667 0.56666667 0.56666667 0.56333333 0.56\n",
      " 0.56       0.56       0.56       0.55666667 0.55666667 0.55333333\n",
      " 0.55666667 0.55333333 0.55666667 0.55666667 0.55666667 0.55666667]\n"
     ]
    }
   ],
   "source": [
    "def KNNClassifier(X_train, y_train, X_test,k):\n",
    "\n",
    "    #Create KNN object with a K coefficient\n",
    "    neigh = KNeighborsClassifier(n_neighbors=k)\n",
    "    neigh.fit(X_train, y_train) # Fit KNN model\n",
    "\n",
    "    Y_pred = neigh.predict(X_test)\n",
    "    return Y_pred\n",
    "\n",
    "score=np.zeros(150)\n",
    "for k in range(1,151):\n",
    "    Y_pred = KNNClassifier(X_train, y_train, X_test, k)\n",
    "    score[k-1] = metrics.accuracy_score(y_test,Y_pred)\n",
    "    print(\"Test on K = \", k, \". Score = \", score[k-1])\n",
    "print(score)"
   ]
  },
  {
   "cell_type": "markdown",
   "id": "d723f642",
   "metadata": {},
   "source": [
    "Plot model scores against chosen K values in 1-10"
   ]
  },
  {
   "cell_type": "code",
   "execution_count": 6,
   "id": "e2de5806",
   "metadata": {},
   "outputs": [
    {
     "data": {
      "image/png": "[encoded data removed]",
      "text/plain": [
       "<Figure size 432x288 with 1 Axes>"
      ]
     },
     "metadata": {
      "needs_background": "light"
     },
     "output_type": "display_data"
    },
    {
     "name": "stdout",
     "output_type": "stream",
     "text": [
      "The best score is  0.8966666666666666  for K =  1\n"
     ]
    }
   ],
   "source": [
    "plt.plot(range(1,151),score)\n",
    "plt.xlabel(\"K Value\")\n",
    "plt.ylabel(\"Score\")\n",
    "plt.show()\n",
    "\n",
    "print(\"The best score is \", np.amax(score), \" for K = \", np.argmax(score)+1)"
   ]
  },
  {
   "cell_type": "markdown",
   "id": "facb3101",
   "metadata": {},
   "source": [
    "The rest code is for testing on new released test data set!"
   ]
  },
  {
   "cell_type": "code",
   "execution_count": 5,
   "id": "b0bf247b",
   "metadata": {},
   "outputs": [
    {
     "name": "stdout",
     "output_type": "stream",
     "text": [
      "(200, 65536)\n"
     ]
    }
   ],
   "source": [
    "csv_array = pd.read_csv('./test-2/label.csv')\n",
    "\n",
    "dir_image = \"./test-2/image/\"\n",
    "dir_img256 = \"./test-2/image256/\"\n",
    "\n",
    "if path.exists(dir_img256) == 'false':\n",
    "    os.makedirs(dir_img256)\n",
    "\n",
    "rows, cols = (200, 65536)            #rows is data set size; cols is width*length (after image size reduction. Here is 256*256)\n",
    "     \n",
    "imgs = np.zeros((rows,cols))          #Initialize an array for all reduced images\n",
    "\n",
    "basewidth = 256                       #Target image width is 256; original width is 512\n",
    "img = Image.open(\"./test-2/image/IMAGE_0000.jpg\")\n",
    "wpercent = float(basewidth) / float(img.size[0])       #use \"256/512\" as resize ratio (wpercent)\n",
    "hsize = int((float(img.size[1]) * float(wpercent)))    #calculated target image height using resize ratio (wpercent)\n",
    "\n",
    "for i in range(rows):                 #Reduce every image's size and save them in 'dir_img256' folder\n",
    "    img = Image.open(dir_image + csv_array.file_name[i])\n",
    "    img = img.resize((basewidth, hsize), Image.ANTIALIAS)\n",
    "    img.save(dir_img256 + csv_array.file_name[i])\n",
    "\n",
    "for i in range(rows):                 #Read every resized image and reduce it from RGB to grayscale format. Transform it to 1-d array. Store all images in a 2-d array, imgs. \n",
    "    img = mpimg.imread(dir_img256 + csv_array.file_name[i])[...,0]\n",
    "    imgs[i] = img.flatten()\n",
    "print(imgs.shape)"
   ]
  },
  {
   "cell_type": "code",
   "execution_count": 7,
   "id": "066a46ad",
   "metadata": {},
   "outputs": [
    {
     "data": {
      "text/plain": [
       "0.9"
      ]
     },
     "execution_count": 7,
     "metadata": {},
     "output_type": "execute_result"
    }
   ],
   "source": [
    "def KNNClassifier(X_train, y_train, X_test,k):\n",
    "\n",
    "    #Create KNN object with a K coefficient\n",
    "    neigh = KNeighborsClassifier(n_neighbors=k)\n",
    "    neigh.fit(X_train, y_train) # Fit KNN model\n",
    "\n",
    "    Y_pred = neigh.predict(X_test)\n",
    "    return Y_pred\n",
    "\n",
    "Y_pred = KNNClassifier(X_train, y_train, imgs, 1)\n",
    "metrics.accuracy_score(csv_array.label,Y_pred)"
   ]
  },
  {
   "cell_type": "code",
   "execution_count": null,
   "id": "c8ab06a3",
   "metadata": {},
   "outputs": [],
   "source": []
  }
 ],
 "metadata": {
  "kernelspec": {
   "display_name": "Python 3 (ipykernel)",
   "language": "python",
   "name": "python3"
  },
  "language_info": {
   "codemirror_mode": {
    "name": "ipython",
    "version": 3
   },
   "file_extension": ".py",
   "mimetype": "text/x-python",
   "name": "python",
   "nbconvert_exporter": "python",
   "pygments_lexer": "ipython3",
   "version": "3.7.11"
  }
 },
 "nbformat": 4,
 "nbformat_minor": 5
}

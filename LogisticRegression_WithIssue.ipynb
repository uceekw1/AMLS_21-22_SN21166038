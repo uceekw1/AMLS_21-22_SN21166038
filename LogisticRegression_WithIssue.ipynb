{
 "cells": [
  {
   "cell_type": "code",
   "execution_count": 2,
   "id": "86deeac6",
   "metadata": {},
   "outputs": [],
   "source": [
    "import pandas as pd\n",
    "import numpy as np\n",
    "import os\n",
    "from os import path\n",
    "import tensorflow as tf\n",
    "import cv2\n",
    "from tensorflow import keras\n",
    "import matplotlib.pyplot as plt\n",
    "import matplotlib.image as mpimg\n",
    "\n",
    "from shutil import copyfile\n",
    "\n",
    "from sklearn.linear_model import LogisticRegression\n",
    "from sklearn.model_selection import train_test_split\n",
    "\n",
    "import glob\n"
   ]
  },
  {
   "cell_type": "code",
   "execution_count": 8,
   "id": "cec529ff",
   "metadata": {},
   "outputs": [
    {
     "name": "stdout",
     "output_type": "stream",
     "text": [
      "(3000, 786432)\n",
      "0.2670103092783505\n"
     ]
    }
   ],
   "source": [
    "csv_array = pd.read_csv('/Users/kuiwang/Documents/Applied ML Systems/FinalAssignment/dataset/label.csv')\n",
    "#csv_array.columns\n",
    "#csv_array.file_name\n",
    "#csv_array.label\n",
    "dir_image = \"/Users/kuiwang/Documents/Applied ML Systems/FinalAssignment/dataset/image/\"\n",
    "dir_no_tumor = \"/Users/kuiwang/Documents/Applied ML Systems/FinalAssignment/dataset/subset/no_tumor/\"\n",
    "dir_meningioma_tumor = \"/Users/kuiwang/Documents/Applied ML Systems/FinalAssignment/dataset/subset/meningioma_tumor/\"\n",
    "dir_glioma_tumor = \"/Users/kuiwang/Documents/Applied ML Systems/FinalAssignment/dataset/subset/glioma_tumor/\"\n",
    "dir_pituitary_tumor = \"/Users/kuiwang/Documents/Applied ML Systems/FinalAssignment/dataset/subset/pituitary_tumor/\"\n",
    "dir_tumor = \"/Users/kuiwang/Documents/Applied ML Systems/FinalAssignment/dataset/subset/tumor/\"\n",
    "\n",
    "#if path.exists(dir_no_tumor) == 'false':\n",
    "#os.makedirs(dir_no_tumor)\n",
    "#if path.exists(dir_meningioma_tumor) == 'false':\n",
    "#os.makedirs(dir_meningioma_tumor)\n",
    "#if path.exists(dir_glioma_tumor) == 'false':\n",
    "#os.makedirs(dir_glioma_tumor)\n",
    "#if path.exists(dir_pituitary_tumor) == 'false':\n",
    "#os.makedirs(dir_pituitary_tumor)\n",
    "#if path.exists(dir_tumor) == 'false':\n",
    "#os.makedirs(dir_tumor)\n",
    "\n",
    "#for i in range(3000):   \n",
    "    #if csv_array.label[i] == 'no_tumor':\n",
    "    #    copyfile(dir_image+csv_array.file_name[i], dir_no_tumor+csv_array.file_name[i])\n",
    "    #elif csv_array.label[i] == 'meningioma_tumor':\n",
    "    #    copyfile(dir_image+csv_array.file_name[i], dir_meningioma_tumor+csv_array.file_name[i])\n",
    "    #    copyfile(dir_image+csv_array.file_name[i], dir_tumor+csv_array.file_name[i])\n",
    "    #elif csv_array.label[i] == 'glioma_tumor':\n",
    "    #    copyfile(dir_image+csv_array.file_name[i], dir_glioma_tumor+csv_array.file_name[i])\n",
    "    #    copyfile(dir_image+csv_array.file_name[i], dir_tumor+csv_array.file_name[i])\n",
    "    #elif csv_array.label[i] == 'pituitary_tumor':\n",
    "    #    copyfile(dir_image+csv_array.file_name[i], dir_pituitary_tumor+csv_array.file_name[i])\n",
    "    #    copyfile(dir_image+csv_array.file_name[i], dir_tumor+csv_array.file_name[i])\n",
    "#images_array =[]\n",
    "images = np.array([cv2.imread(file) for file in glob.glob(\"/Users/kuiwang/Documents/Applied ML Systems/FinalAssignment/dataset/image/*.jpg\")])    \n",
    "pixels = images.flatten().reshape(3000,-1)\n",
    "print(pixels.shape)\n",
    "\n",
    "\n",
    "\n",
    "x_train, x_test, y_train, y_test = train_test_split(pixels, csv_array.label[0:3000], test_size=0.97, random_state=0)\n",
    "\n",
    "#for i in range(30):\n",
    "#    x = mpimg.imread()\n",
    "        \n",
    "logisticRegr = LogisticRegression(solver='lbfgs', max_iter=3000)\n",
    "\n",
    "logisticRegr.fit(x_train, y_train)\n",
    "\n",
    "predictions = logisticRegr.predict(x_test)\n",
    "#print(predictions)\n",
    "        \n",
    "# Use score method to get accuracy of model\n",
    "score = logisticRegr.score(x_test, y_test)\n",
    "print(score)\n",
    "\n",
    "#img0=mpimg.imread(\"/Users/kuiwang/Documents/Applied ML Systems/FinalAssignment/dataset/image/IMAGE_0000.jpg\")\n",
    "#plt.subplot(131)\n",
    "#plt.imshow(img0)\n",
    "#img1=mpimg.imread(\"/Users/kuiwang/Documents/Applied ML Systems/FinalAssignment/dataset/image/IMAGE_0001.jpg\")\n",
    "#plt.subplot(133)\n",
    "#plt.imshow(img1)\n",
    "#img2=mpimg.imread(\"/Users/kuiwang/Documents/Applied ML Systems/FinalAssignment/dataset/image/IMAGE_0002.jpg\")\n",
    "#plt.imshow(img2)\n",
    "#img3=mpimg.imread(\"/Users/kuiwang/Documents/Applied ML Systems/FinalAssignment/dataset/image/IMAGE_0003.jpg\")\n",
    "#plt.imshow(img3)"
   ]
  },
  {
   "cell_type": "code",
   "execution_count": null,
   "id": "ea306e65",
   "metadata": {},
   "outputs": [],
   "source": []
  }
 ],
 "metadata": {
  "kernelspec": {
   "display_name": "Python 3 (ipykernel)",
   "language": "python",
   "name": "python3"
  },
  "language_info": {
   "codemirror_mode": {
    "name": "ipython",
    "version": 3
   },
   "file_extension": ".py",
   "mimetype": "text/x-python",
   "name": "python",
   "nbconvert_exporter": "python",
   "pygments_lexer": "ipython3",
   "version": "3.7.11"
  }
 },
 "nbformat": 4,
 "nbformat_minor": 5
}

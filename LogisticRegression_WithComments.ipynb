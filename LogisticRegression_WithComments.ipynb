{
 "cells": [
  {
   "cell_type": "markdown",
   "id": "5cf9c5cb",
   "metadata": {},
   "source": [
    "# Logistic Regression Model for Tumour Classification"
   ]
  },
  {
   "cell_type": "markdown",
   "id": "89aa34b3",
   "metadata": {},
   "source": [
    "## Import Libraries"
   ]
  },
  {
   "cell_type": "markdown",
   "id": "411328b2",
   "metadata": {},
   "source": [
    "Necessary Libraries are pandas, numpy, os, matplotlib and sklearn."
   ]
  },
  {
   "cell_type": "code",
   "execution_count": 1,
   "id": "86deeac6",
   "metadata": {},
   "outputs": [],
   "source": [
    "import pandas as pd\n",
    "import numpy as np\n",
    "import os\n",
    "from os import path\n",
    "import matplotlib.pyplot as plt\n",
    "import matplotlib.image as mpimg\n",
    "from sklearn.linear_model import LogisticRegression\n",
    "from sklearn.model_selection import train_test_split"
   ]
  },
  {
   "cell_type": "markdown",
   "id": "cc21add5",
   "metadata": {},
   "source": [
    "## Read .csv File \n",
    "## Define Directory Name"
   ]
  },
  {
   "cell_type": "code",
   "execution_count": 3,
   "id": "36068c01",
   "metadata": {},
   "outputs": [],
   "source": [
    "csv_array = pd.read_csv('./dataset/label.csv')\n",
    "#csv_array.columns\n",
    "#csv_array.file_name\n",
    "#csv_array.label\n",
    "dir_image = \"./dataset/image/\"\n",
    "dir_small_img = \"./dataset/small_img/\"\n",
    "\n",
    "if path.exists(dir_small_img) == 'false':\n",
    "    os.makedirs(dir_small_img)"
   ]
  },
  {
   "cell_type": "markdown",
   "id": "68c663ad",
   "metadata": {},
   "source": [
    "## Reduce Image Size and Store In Array (Image Pre-processing)"
   ]
  },
  {
   "cell_type": "code",
   "execution_count": 5,
   "id": "ca7abaef",
   "metadata": {},
   "outputs": [
    {
     "name": "stdout",
     "output_type": "stream",
     "text": [
      "(3000, 16384)\n"
     ]
    }
   ],
   "source": [
    "rows, cols = (3000, 16384)             #rows is data set size; cols is width*length (after image size reduction. Here is 128*128)\n",
    "#imgs = [[0 for i in range(cols)] for j in range(rows)]     #Initialize an array for all reduced images\n",
    "imgs = np.zeros((rows,cols))\n",
    "\n",
    "from PIL import Image                 #Import PIL for image size reduction\n",
    "\n",
    "basewidth = 128                       #Target image width; original width is 512\n",
    "img = Image.open(\"/Users/kuiwang/Documents/Applied ML Systems/FinalAssignment/dataset/image/IMAGE_0000.jpg\")\n",
    "wpercent = float(basewidth) / float(img.size[0])\n",
    "hsize = int((float(img.size[1]) * float(wpercent)))    #calculated target image height\n",
    "\n",
    "for i in range(rows):                 #Reduce every image's size and save them in 'small_img' folder\n",
    "    img = Image.open(dir_image + csv_array.file_name[i])\n",
    "    img = img.resize((basewidth, hsize), Image.ANTIALIAS)\n",
    "    img.save(dir_small_img + csv_array.file_name[i])\n",
    "\n",
    "for i in range(rows):                 #Read every small image and reduce it from RGB to grayscale format. Transform it to 1-d array. Store all images in 2-d array imgs. \n",
    "    img = mpimg.imread(dir_small_img + csv_array.file_name[i])[...,0]\n",
    "    imgs[i] = img.flatten()\n",
    "print(imgs.shape)"
   ]
  },
  {
   "cell_type": "markdown",
   "id": "af7a0a07",
   "metadata": {},
   "source": [
    "## Split Train/Test Data Set"
   ]
  },
  {
   "cell_type": "code",
   "execution_count": 6,
   "id": "dcd63d97",
   "metadata": {},
   "outputs": [],
   "source": [
    "x_train, x_test, y_train, y_test = train_test_split(imgs, csv_array.label[0:rows], test_size=0.10, random_state=0)"
   ]
  },
  {
   "cell_type": "markdown",
   "id": "f73aae92",
   "metadata": {},
   "source": [
    "## Train Logistic Regression Model with Training Data"
   ]
  },
  {
   "cell_type": "code",
   "execution_count": 7,
   "id": "c3f53fb6",
   "metadata": {},
   "outputs": [
    {
     "data": {
      "text/plain": [
       "LogisticRegression(max_iter=3000, n_jobs=-1)"
      ]
     },
     "execution_count": 7,
     "metadata": {},
     "output_type": "execute_result"
    }
   ],
   "source": [
    "logisticRegr = LogisticRegression(solver='lbfgs', max_iter=3000, n_jobs = -1)\n",
    "logisticRegr.fit(x_train, y_train)"
   ]
  },
  {
   "cell_type": "markdown",
   "id": "54d7b2b6",
   "metadata": {},
   "source": [
    "## Make Prediction Based On Trained Model For Test Data"
   ]
  },
  {
   "cell_type": "code",
   "execution_count": 8,
   "id": "07d51f9c",
   "metadata": {},
   "outputs": [],
   "source": [
    "predictions = logisticRegr.predict(x_test)"
   ]
  },
  {
   "cell_type": "markdown",
   "id": "88237e1c",
   "metadata": {},
   "source": [
    "## Score the Accuracy of Model"
   ]
  },
  {
   "cell_type": "code",
   "execution_count": 9,
   "id": "e3d5d4f8",
   "metadata": {},
   "outputs": [
    {
     "name": "stdout",
     "output_type": "stream",
     "text": [
      "0.7833333333333333\n"
     ]
    }
   ],
   "source": [
    "score = logisticRegr.score(x_test, y_test)\n",
    "print(score)"
   ]
  },
  {
   "cell_type": "code",
   "execution_count": null,
   "id": "300c4835",
   "metadata": {},
   "outputs": [],
   "source": []
  }
 ],
 "metadata": {
  "kernelspec": {
   "display_name": "Python 3",
   "language": "python",
   "name": "python3"
  },
  "language_info": {
   "codemirror_mode": {
    "name": "ipython",
    "version": 3
   },
   "file_extension": ".py",
   "mimetype": "text/x-python",
   "name": "python",
   "nbconvert_exporter": "python",
   "pygments_lexer": "ipython3",
   "version": "3.8.8"
  }
 },
 "nbformat": 4,
 "nbformat_minor": 5
}

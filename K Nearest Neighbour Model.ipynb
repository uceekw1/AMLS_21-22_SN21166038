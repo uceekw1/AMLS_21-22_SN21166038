{
 "cells": [
  {
   "cell_type": "code",
   "execution_count": 1,
   "id": "996e9b57",
   "metadata": {},
   "outputs": [],
   "source": [
    "import matplotlib.pyplot as plt\n",
    "import numpy as np\n",
    "from pandas import *\n",
    "import pandas as pd\n",
    "from sklearn.model_selection import train_test_split\n",
    "from sklearn.neighbors import KNeighborsClassifier\n",
    "from sklearn import metrics\n",
    "\n",
    "import matplotlib.pyplot as plt\n",
    "import matplotlib.image as mpimg\n",
    "import os\n",
    "from os import path"
   ]
  },
  {
   "cell_type": "code",
   "execution_count": 2,
   "id": "a320427b",
   "metadata": {},
   "outputs": [],
   "source": [
    "csv_array = pd.read_csv('./dataset/label.csv')\n",
    "#csv_array.columns\n",
    "#csv_array.file_name\n",
    "#csv_array.label\n",
    "dir_image = \"./dataset/image/\"\n",
    "dir_small_img = \"./dataset/small_img/\"\n",
    "dir_img256 = \"./dataset/image256/\"\n",
    "\n",
    "if path.exists(dir_small_img) == 'false':\n",
    "    os.makedirs(dir_small_img)\n",
    "if path.exists(dir_img256) == 'false':\n",
    "    os.makedirs(dir_img256)"
   ]
  },
  {
   "cell_type": "code",
   "execution_count": 3,
   "id": "b443766c",
   "metadata": {},
   "outputs": [
    {
     "name": "stdout",
     "output_type": "stream",
     "text": [
      "(3000, 262144)\n"
     ]
    }
   ],
   "source": [
    "#rows, cols = (3000, 16384)             #rows is data set size; cols is width*length (after image size reduction. Here is 128*128)\n",
    "#rows, cols = (3000, 65536)             #256*256\n",
    "rows, cols = (3000, 262144)             #512*512 \n",
    "#imgs = [[0 for i in range(cols)] for j in range(rows)]     #Initialize an array for all reduced images\n",
    "imgs = np.zeros((rows,cols))\n",
    "\n",
    "#from PIL import Image                 #Import PIL for image size reduction\n",
    "\n",
    "#basewidth = 256                       #Target image width; original width is 512\n",
    "#img = Image.open(\"/Users/kuiwang/Documents/Applied ML Systems/FinalAssignment/dataset/image/IMAGE_0000.jpg\")\n",
    "#wpercent = float(basewidth) / float(img.size[0])\n",
    "#hsize = int((float(img.size[1]) * float(wpercent)))    #calculated target image height\n",
    "\n",
    "#for i in range(rows):                 #Reduce every image's size and save them in 'small_img' folder\n",
    "#    img = Image.open(dir_image + csv_array.file_name[i])\n",
    "#    img = img.resize((basewidth, hsize), Image.ANTIALIAS)\n",
    "#    img.save(dir_img256 + csv_array.file_name[i])\n",
    "\n",
    "for i in range(rows):                 #Read every small image and reduce it from RGB to grayscale format. Transform it to 1-d array. Store all images in 2-d array imgs. \n",
    "#    img = mpimg.imread(dir_small_img + csv_array.file_name[i])[...,0]\n",
    "#    img = mpimg.imread(dir_img256 + csv_array.file_name[i])[...,0]\n",
    "    img = mpimg.imread(dir_image + csv_array.file_name[i])[...,0]\n",
    "    imgs[i] = img.flatten() \n",
    "print(imgs.shape)"
   ]
  },
  {
   "cell_type": "code",
   "execution_count": 4,
   "id": "3418434a",
   "metadata": {},
   "outputs": [
    {
     "name": "stdout",
     "output_type": "stream",
     "text": [
      "train set: 0.9  | test set: 0.1\n"
     ]
    }
   ],
   "source": [
    "X_train,X_test,y_train,y_test=train_test_split(imgs, csv_array.label[0:rows],test_size=0.10, random_state=0) \n",
    "#test_size= should be between 0.0 and 1.0 and represent the proportion of the dataset to include in the test split\n",
    "#everytime you run it without specifying random_state, you will get a different result, this is expected behavior\n",
    "#print (len(X_test), len(y_test))\n",
    "\n",
    "print('train set: {}  | test set: {}'.format(round(((len(y_train)*1.0)/len(imgs)),3),\n",
    "                                                       round((len(y_test)*1.0)/len(imgs),3)))\n"
   ]
  },
  {
   "cell_type": "code",
   "execution_count": 8,
   "id": "c6f05f8d",
   "metadata": {},
   "outputs": [
    {
     "name": "stdout",
     "output_type": "stream",
     "text": [
      "0.8966666666666666\n"
     ]
    }
   ],
   "source": [
    "def KNNClassifier(X_train, y_train, X_test,k):\n",
    "\n",
    "    #Create KNN object with a K coefficient\n",
    "    neigh = KNeighborsClassifier(n_neighbors=k)\n",
    "    neigh.fit(X_train, y_train) # Fit KNN model\n",
    "\n",
    "\n",
    "    Y_pred = neigh.predict(X_test)\n",
    "    return Y_pred\n",
    "\n",
    "Y_pred=KNNClassifier(X_train, y_train, X_test, 1)\n",
    "\n",
    "score=metrics.accuracy_score(y_test,Y_pred)\n",
    "print(score)"
   ]
  },
  {
   "cell_type": "code",
   "execution_count": null,
   "id": "e2de5806",
   "metadata": {},
   "outputs": [],
   "source": []
  }
 ],
 "metadata": {
  "kernelspec": {
   "display_name": "Python 3",
   "language": "python",
   "name": "python3"
  },
  "language_info": {
   "codemirror_mode": {
    "name": "ipython",
    "version": 3
   },
   "file_extension": ".py",
   "mimetype": "text/x-python",
   "name": "python",
   "nbconvert_exporter": "python",
   "pygments_lexer": "ipython3",
   "version": "3.8.8"
  }
 },
 "nbformat": 4,
 "nbformat_minor": 5
}

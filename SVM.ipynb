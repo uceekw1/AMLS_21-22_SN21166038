{
 "cells": [
  {
   "cell_type": "code",
   "execution_count": 1,
   "id": "d2a76c3f",
   "metadata": {},
   "outputs": [],
   "source": [
    "# import libraries\n",
    "import numpy as np\n",
    "import matplotlib.pyplot as plt\n",
    "import matplotlib.image as mpimg\n",
    "from sklearn import svm\n",
    "from sklearn.svm import SVC\n",
    "from sklearn.model_selection import train_test_split\n",
    "#from sklearn.utils import shuffle\n",
    "from sklearn.metrics import classification_report,accuracy_score\n",
    "import pandas as pd\n",
    "import os\n",
    "from os import path"
   ]
  },
  {
   "cell_type": "code",
   "execution_count": 2,
   "id": "65192d71",
   "metadata": {},
   "outputs": [],
   "source": [
    "csv_array = pd.read_csv('./dataset/label.csv')\n",
    "#csv_array.columns\n",
    "#csv_array.file_name\n",
    "#csv_array.label\n",
    "dir_image = \"./dataset/image/\"\n",
    "dir_small_img = \"./dataset/small_img/\"\n",
    "\n",
    "if path.exists(dir_small_img) == 'false':\n",
    "    os.makedirs(dir_small_img)"
   ]
  },
  {
   "cell_type": "code",
   "execution_count": 3,
   "id": "b355b564",
   "metadata": {},
   "outputs": [
    {
     "name": "stdout",
     "output_type": "stream",
     "text": [
      "(3000, 16384)\n"
     ]
    }
   ],
   "source": [
    "rows, cols = (3000, 16384)             #rows is data set size; cols is width*length (after image size reduction. Here is 128*128)\n",
    "#imgs = [[0 for i in range(cols)] for j in range(rows)]     #Initialize an array for all reduced images\n",
    "imgs = np.zeros((rows,cols))\n",
    "\n",
    "from PIL import Image                 #Import PIL for image size reduction\n",
    "\n",
    "basewidth = 128                       #Target image width; original width is 512\n",
    "img = Image.open(\"/Users/kuiwang/Documents/Applied ML Systems/FinalAssignment/dataset/image/IMAGE_0000.jpg\")\n",
    "wpercent = float(basewidth) / float(img.size[0])\n",
    "hsize = int((float(img.size[1]) * float(wpercent)))    #calculated target image height\n",
    "\n",
    "for i in range(rows):                 #Reduce every image's size and save them in 'small_img' folder\n",
    "    img = Image.open(dir_image + csv_array.file_name[i])\n",
    "    img = img.resize((basewidth, hsize), Image.ANTIALIAS)\n",
    "    img.save(dir_small_img + csv_array.file_name[i])\n",
    "\n",
    "for i in range(rows):                 #Read every small image and reduce it from RGB to grayscale format. Transform it to 1-d array. Store all images in 2-d array imgs. \n",
    "    img = mpimg.imread(dir_small_img + csv_array.file_name[i])[...,0]\n",
    "    imgs[i] = img.flatten()\n",
    "print(imgs.shape)"
   ]
  },
  {
   "cell_type": "code",
   "execution_count": 4,
   "id": "51b17532",
   "metadata": {},
   "outputs": [],
   "source": [
    "x_train, x_test, y_train, y_test = train_test_split(imgs, csv_array.label[0:rows], test_size=0.10, random_state=0)"
   ]
  },
  {
   "cell_type": "code",
   "execution_count": 5,
   "id": "09efca35",
   "metadata": {},
   "outputs": [
    {
     "name": "stdout",
     "output_type": "stream",
     "text": [
      "0.8133333333333334\n"
     ]
    }
   ],
   "source": [
    "def SVM(x_train,y_train, x_test):\n",
    "    model = SVC(kernel='linear')\n",
    "    model.fit(x_train,y_train)\n",
    "    y_pred = model.predict(x_test)\n",
    "    return y_pred\n",
    "# Scikit learn library results\n",
    "y_pred=SVM(x_train,y_train, x_test)\n",
    "print(accuracy_score(y_test,y_pred))"
   ]
  },
  {
   "cell_type": "code",
   "execution_count": null,
   "id": "9ad2fa10",
   "metadata": {},
   "outputs": [],
   "source": []
  }
 ],
 "metadata": {
  "kernelspec": {
   "display_name": "Python 3",
   "language": "python",
   "name": "python3"
  },
  "language_info": {
   "codemirror_mode": {
    "name": "ipython",
    "version": 3
   },
   "file_extension": ".py",
   "mimetype": "text/x-python",
   "name": "python",
   "nbconvert_exporter": "python",
   "pygments_lexer": "ipython3",
   "version": "3.8.8"
  }
 },
 "nbformat": 4,
 "nbformat_minor": 5
}
